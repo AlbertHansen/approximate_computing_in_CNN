{
 "cells": [
  {
   "cell_type": "code",
   "execution_count": 1,
   "id": "ba1c3a5b-4708-4d0b-ab8c-1019531cbccc",
   "metadata": {},
   "outputs": [
    {
     "name": "stderr",
     "output_type": "stream",
     "text": [
      "2024-03-27 15:23:21.486325: I tensorflow/core/platform/cpu_feature_guard.cc:210] This TensorFlow binary is optimized to use available CPU instructions in performance-critical operations.\n",
      "To enable the following instructions: AVX2 AVX512F FMA, in other operations, rebuild TensorFlow with the appropriate compiler flags.\n",
      "/usr/lib/python3/dist-packages/scipy/__init__.py:146: UserWarning: A NumPy version >=1.17.3 and <1.25.0 is required for this version of SciPy (detected version 1.26.4\n",
      "  warnings.warn(f\"A NumPy version >={np_minversion} and <{np_maxversion}\"\n"
     ]
    }
   ],
   "source": [
    "# import packages\n",
    "import numpy as np\n",
    "import pandas as pd\n",
    "import tensorflow as tf\n",
    "import tensorflow_datasets as tfds\n",
    "import matplotlib.pyplot as plt\n",
    "import time\n",
    "\n",
    "from tensorflow.keras import datasets, layers, models"
   ]
  },
  {
   "cell_type": "code",
   "execution_count": 2,
   "id": "5722262b-44e2-4220-aa44-e028045fbac8",
   "metadata": {},
   "outputs": [],
   "source": [
    "# Datasets\n",
    "train_paths = [\n",
    "    '/home/ubuntu/tensorflow_datasets/cifar100_grey_16x16_AREA/train',\n",
    "    '/home/ubuntu/tensorflow_datasets/cifar100_grey_16x16_BICUBIC/train',\n",
    "    '/home/ubuntu/tensorflow_datasets/cifar100_grey_16x16_BILINEAR/train',\n",
    "    '/home/ubuntu/tensorflow_datasets/cifar100_grey_16x16_GAUSSIAN/train',\n",
    "    '/home/ubuntu/tensorflow_datasets/cifar100_grey_16x16_LANCZOS3/train',\n",
    "    '/home/ubuntu/tensorflow_datasets/cifar100_grey_16x16_LANCZOS5/train',\n",
    "    '/home/ubuntu/tensorflow_datasets/cifar100_grey_16x16_MITCHELLCUBIC/train',\n",
    "    '/home/ubuntu/tensorflow_datasets/cifar100_grey_16x16_NEAREST_NEIGHBOR/train'   \n",
    "]\n",
    "test_paths = [\n",
    "    '/home/ubuntu/tensorflow_datasets/cifar100_grey_16x16_AREA/test',\n",
    "    '/home/ubuntu/tensorflow_datasets/cifar100_grey_16x16_BICUBIC/test',\n",
    "    '/home/ubuntu/tensorflow_datasets/cifar100_grey_16x16_BILINEAR/test',\n",
    "    '/home/ubuntu/tensorflow_datasets/cifar100_grey_16x16_GAUSSIAN/test',\n",
    "    '/home/ubuntu/tensorflow_datasets/cifar100_grey_16x16_LANCZOS3/test',\n",
    "    '/home/ubuntu/tensorflow_datasets/cifar100_grey_16x16_LANCZOS5/test',\n",
    "    '/home/ubuntu/tensorflow_datasets/cifar100_grey_16x16_MITCHELLCUBIC/test',\n",
    "    '/home/ubuntu/tensorflow_datasets/cifar100_grey_16x16_NEAREST_NEIGHBOR/test'   \n",
    "]\n",
    "csv_names = [\n",
    "    '/home/ubuntu/approximate_computing_in_CNN/app-small_network/results/resize_methods/AREA.csv',\n",
    "    '/home/ubuntu/approximate_computing_in_CNN/app-small_network/results/resize_methods/BICUBIC.csv',\n",
    "    '/home/ubuntu/approximate_computing_in_CNN/app-small_network/results/resize_methods/BILINEAR.csv',\n",
    "    '/home/ubuntu/approximate_computing_in_CNN/app-small_network/results/resize_methods/GAUSSIAN.csv',\n",
    "    '/home/ubuntu/approximate_computing_in_CNN/app-small_network/results/resize_methods/LANCZOS3.csv',\n",
    "    '/home/ubuntu/approximate_computing_in_CNN/app-small_network/results/resize_methods/LANCZOS5.csv',\n",
    "    '/home/ubuntu/approximate_computing_in_CNN/app-small_network/results/resize_methods/MITCHELLCUBIC.csv',\n",
    "    '/home/ubuntu/approximate_computing_in_CNN/app-small_network/results/resize_methods/NEAREST_NEIGHBOR.csv'\n",
    "]\n",
    "\n",
    "#train = tf.data.Dataset.load('/home/ubuntu/tensorflow_datasets/cifar100_grey_16x16/train')\n",
    "#test  = tf.data.Dataset.load('/home/ubuntu/tensorflow_datasets/cifar100_grey_16x16/test')\n",
    "\n",
    "def preprocess(example):\n",
    "    image = example['image']\n",
    "    image.set_shape([16, 16, 1])\n",
    "    label = example['label']\n",
    "    label = tf.one_hot(label, depth=100)  # One-hot encode the labels\n",
    "    return image, label\n",
    "\n",
    "def format_set(train_set, test_set):\n",
    "    # format and cache\n",
    "    train_set_formatted = train_set.map(preprocess, num_parallel_calls=tf.data.AUTOTUNE)\n",
    "    train_set_formatted = train_set_formatted.cache()\n",
    "    train_set_formatted = train_set_formatted.batch(512)\n",
    "    train_set_formatted = train_set_formatted.prefetch(tf.data.AUTOTUNE)\n",
    "    test_set_formatted = test_set.map(preprocess, num_parallel_calls=tf.data.AUTOTUNE)\n",
    "    test_set_formatted = test_set_formatted.batch(512)\n",
    "    test_set_formatted = test_set_formatted.cache()\n",
    "    test_set_formatted = test_set_formatted.prefetch(tf.data.AUTOTUNE)\n",
    "    return train_set_formatted, test_set_formatted"
   ]
  },
  {
   "cell_type": "code",
   "execution_count": 3,
   "id": "a650bd19-7637-4043-9b62-e887a4114d51",
   "metadata": {},
   "outputs": [
    {
     "data": {
      "text/plain": [
       "'\\n# Get the first batch of images and labels from the training dataset\\nimages, labels = next(iter(train))\\n\\n# Create a figure\\nplt.figure(figsize=(10,10))\\n\\n# Plot 25 images\\nfor i in range(25):\\n    plt.subplot(5,5,i+1)\\n    plt.xticks([])\\n    plt.yticks([])\\n    plt.grid(False)\\n    # Reshape the image\\n    image = np.reshape(images[i], (16, 16))\\n    plt.imshow(image, cmap=plt.cm.binary)\\n    # Get the label for the image\\n    label = np.argmax(labels[i])\\n    plt.xlabel(label)\\nplt.show()\\n'"
      ]
     },
     "execution_count": 3,
     "metadata": {},
     "output_type": "execute_result"
    }
   ],
   "source": [
    "'''\n",
    "# Get the first batch of images and labels from the training dataset\n",
    "images, labels = next(iter(train))\n",
    "\n",
    "# Create a figure\n",
    "plt.figure(figsize=(10,10))\n",
    "\n",
    "# Plot 25 images\n",
    "for i in range(25):\n",
    "    plt.subplot(5,5,i+1)\n",
    "    plt.xticks([])\n",
    "    plt.yticks([])\n",
    "    plt.grid(False)\n",
    "    # Reshape the image\n",
    "    image = np.reshape(images[i], (16, 16))\n",
    "    plt.imshow(image, cmap=plt.cm.binary)\n",
    "    # Get the label for the image\n",
    "    label = np.argmax(labels[i])\n",
    "    plt.xlabel(label)\n",
    "plt.show()\n",
    "'''"
   ]
  },
  {
   "cell_type": "code",
   "execution_count": 4,
   "id": "17f7cfa1-d410-47b7-a2e7-02b3936c9134",
   "metadata": {},
   "outputs": [],
   "source": [
    "# Keeping time\n",
    "class TimeHistory(tf.keras.callbacks.Callback):\n",
    "    def on_train_begin(self, logs={}):\n",
    "        self.times = []\n",
    "\n",
    "    def on_epoch_begin(self, batch, logs={}):\n",
    "        self.epoch_time_start = time.time()\n",
    "\n",
    "    def on_epoch_end(self, batch, logs={}):\n",
    "        self.times.append(time.time() - self.epoch_time_start)\n",
    "\n",
    "time_callback = TimeHistory()"
   ]
  },
  {
   "cell_type": "code",
   "execution_count": 5,
   "id": "8c80d936-918f-41aa-9fc2-5c463c2d48b9",
   "metadata": {},
   "outputs": [],
   "source": [
    "# Model taken from example (https://www.tensorflow.org/tutorials/images/cnn)\n",
    "def create_model():\n",
    "    model = models.Sequential()\n",
    "    model.add(layers.Conv2D(32, (2, 2), activation='relu')) # input_shape removed, (3, 3) -> (2, 2)\n",
    "    model.add(layers.MaxPooling2D((2, 2)))\n",
    "    model.add(layers.Conv2D(64, (2, 2), activation='relu')) # (3, 3) -> (2, 2)\n",
    "    model.add(layers.MaxPooling2D((2, 2)))\n",
    "    model.add(layers.Conv2D(64, (2, 2), activation='relu')) # (3, 3) -> (2, 2)\n",
    "    model.add(layers.Flatten())\n",
    "    model.add(layers.Dense(64, activation='relu'))\n",
    "    model.add(layers.Dense(100))  # changed from 10 to 100, due to amount of classes\n",
    "    return model\n",
    "    \n",
    "def compile_model(model):\n",
    "    model.compile(\n",
    "        optimizer='adam',\n",
    "        # loss=tf.keras.losses.SparseCategoricalCrossentropy(from_logits=True),\n",
    "        loss=tf.keras.losses.MeanSquaredError(),\n",
    "        metrics=['accuracy']\n",
    "    )\n",
    "    return model"
   ]
  },
  {
   "cell_type": "code",
   "execution_count": 6,
   "id": "e3253733-ce58-4bb9-8ecf-f32df6072556",
   "metadata": {},
   "outputs": [
    {
     "name": "stdout",
     "output_type": "stream",
     "text": [
      "Epoch 1/2\n",
      "\u001b[1m98/98\u001b[0m \u001b[32m━━━━━━━━━━━━━━━━━━━━\u001b[0m\u001b[37m\u001b[0m \u001b[1m4s\u001b[0m 26ms/step - accuracy: 0.0116 - loss: 0.0100 - val_accuracy: 0.0244 - val_loss: 0.0099\n",
      "Epoch 2/2\n",
      "\u001b[1m98/98\u001b[0m \u001b[32m━━━━━━━━━━━━━━━━━━━━\u001b[0m\u001b[37m\u001b[0m \u001b[1m2s\u001b[0m 17ms/step - accuracy: 0.0283 - loss: 0.0099 - val_accuracy: 0.0516 - val_loss: 0.0099\n",
      "Epoch 1/2\n",
      "\u001b[1m98/98\u001b[0m \u001b[32m━━━━━━━━━━━━━━━━━━━━\u001b[0m\u001b[37m\u001b[0m \u001b[1m4s\u001b[0m 25ms/step - accuracy: 0.0109 - loss: 0.0101 - val_accuracy: 0.0150 - val_loss: 0.0099\n",
      "Epoch 2/2\n",
      "\u001b[1m98/98\u001b[0m \u001b[32m━━━━━━━━━━━━━━━━━━━━\u001b[0m\u001b[37m\u001b[0m \u001b[1m2s\u001b[0m 17ms/step - accuracy: 0.0238 - loss: 0.0099 - val_accuracy: 0.0423 - val_loss: 0.0099\n",
      "Epoch 1/2\n",
      "\u001b[1m98/98\u001b[0m \u001b[32m━━━━━━━━━━━━━━━━━━━━\u001b[0m\u001b[37m\u001b[0m \u001b[1m4s\u001b[0m 25ms/step - accuracy: 0.0124 - loss: 0.0100 - val_accuracy: 0.0282 - val_loss: 0.0099\n",
      "Epoch 2/2\n",
      "\u001b[1m98/98\u001b[0m \u001b[32m━━━━━━━━━━━━━━━━━━━━\u001b[0m\u001b[37m\u001b[0m \u001b[1m2s\u001b[0m 16ms/step - accuracy: 0.0319 - loss: 0.0099 - val_accuracy: 0.0492 - val_loss: 0.0098\n",
      "Epoch 1/2\n",
      "\u001b[1m98/98\u001b[0m \u001b[32m━━━━━━━━━━━━━━━━━━━━\u001b[0m\u001b[37m\u001b[0m \u001b[1m4s\u001b[0m 24ms/step - accuracy: 0.0116 - loss: 0.0100 - val_accuracy: 0.0211 - val_loss: 0.0099\n",
      "Epoch 2/2\n",
      "\u001b[1m98/98\u001b[0m \u001b[32m━━━━━━━━━━━━━━━━━━━━\u001b[0m\u001b[37m\u001b[0m \u001b[1m2s\u001b[0m 15ms/step - accuracy: 0.0326 - loss: 0.0099 - val_accuracy: 0.0490 - val_loss: 0.0098\n",
      "Epoch 1/2\n",
      "\u001b[1m98/98\u001b[0m \u001b[32m━━━━━━━━━━━━━━━━━━━━\u001b[0m\u001b[37m\u001b[0m \u001b[1m4s\u001b[0m 24ms/step - accuracy: 0.0106 - loss: 0.0100 - val_accuracy: 0.0212 - val_loss: 0.0099\n",
      "Epoch 2/2\n",
      "\u001b[1m98/98\u001b[0m \u001b[32m━━━━━━━━━━━━━━━━━━━━\u001b[0m\u001b[37m\u001b[0m \u001b[1m2s\u001b[0m 16ms/step - accuracy: 0.0277 - loss: 0.0099 - val_accuracy: 0.0410 - val_loss: 0.0099\n",
      "Epoch 1/2\n",
      "\u001b[1m98/98\u001b[0m \u001b[32m━━━━━━━━━━━━━━━━━━━━\u001b[0m\u001b[37m\u001b[0m \u001b[1m4s\u001b[0m 24ms/step - accuracy: 0.0115 - loss: 0.0100 - val_accuracy: 0.0206 - val_loss: 0.0099\n",
      "Epoch 2/2\n",
      "\u001b[1m98/98\u001b[0m \u001b[32m━━━━━━━━━━━━━━━━━━━━\u001b[0m\u001b[37m\u001b[0m \u001b[1m2s\u001b[0m 16ms/step - accuracy: 0.0259 - loss: 0.0099 - val_accuracy: 0.0490 - val_loss: 0.0099\n",
      "Epoch 1/2\n",
      "\u001b[1m98/98\u001b[0m \u001b[32m━━━━━━━━━━━━━━━━━━━━\u001b[0m\u001b[37m\u001b[0m \u001b[1m4s\u001b[0m 24ms/step - accuracy: 0.0103 - loss: 0.0100 - val_accuracy: 0.0124 - val_loss: 0.0099\n",
      "Epoch 2/2\n",
      "\u001b[1m98/98\u001b[0m \u001b[32m━━━━━━━━━━━━━━━━━━━━\u001b[0m\u001b[37m\u001b[0m \u001b[1m2s\u001b[0m 16ms/step - accuracy: 0.0180 - loss: 0.0099 - val_accuracy: 0.0313 - val_loss: 0.0099\n",
      "Epoch 1/2\n",
      "\u001b[1m98/98\u001b[0m \u001b[32m━━━━━━━━━━━━━━━━━━━━\u001b[0m\u001b[37m\u001b[0m \u001b[1m4s\u001b[0m 24ms/step - accuracy: 0.0117 - loss: 0.0101 - val_accuracy: 0.0169 - val_loss: 0.0099\n",
      "Epoch 2/2\n",
      "\u001b[1m98/98\u001b[0m \u001b[32m━━━━━━━━━━━━━━━━━━━━\u001b[0m\u001b[37m\u001b[0m \u001b[1m2s\u001b[0m 16ms/step - accuracy: 0.0279 - loss: 0.0099 - val_accuracy: 0.0478 - val_loss: 0.0098\n"
     ]
    }
   ],
   "source": [
    "#train = tf.data.Dataset.load('/home/ubuntu/tensorflow_datasets/cifar100_grey_16x16/train')\n",
    "#test  = tf.data.Dataset.load('/home/ubuntu/tensorflow_datasets/cifar100_grey_16x16/test')\n",
    "\n",
    "for i in range(len(csv_names)):\n",
    "    # fetch datasets\n",
    "    train = tf.data.Dataset.load(train_paths[i])\n",
    "    test  = tf.data.Dataset.load(test_paths[i])\n",
    "    train, test = format_set(train, test)\n",
    "\n",
    "    # create model\n",
    "    model = create_model()\n",
    "    model = compile_model(model)\n",
    "\n",
    "    # Train\n",
    "    history = model.fit(train, epochs=2, validation_data=test, callbacks=[time_callback])\n",
    "\n",
    "    # Convert the history.history dict to a pandas DataFrame\n",
    "    hist_df = pd.DataFrame(history.history)\n",
    "\n",
    "    # Add epoch times\n",
    "    hist_df['time'] = time_callback.times\n",
    "\n",
    "    # Save to csv\n",
    "    hist_df.to_csv(csv_names[i])"
   ]
  }
 ],
 "metadata": {
  "kernelspec": {
   "display_name": "Python 3 (ipykernel)",
   "language": "python",
   "name": "python3"
  },
  "language_info": {
   "codemirror_mode": {
    "name": "ipython",
    "version": 3
   },
   "file_extension": ".py",
   "mimetype": "text/x-python",
   "name": "python",
   "nbconvert_exporter": "python",
   "pygments_lexer": "ipython3",
   "version": "3.10.12"
  }
 },
 "nbformat": 4,
 "nbformat_minor": 5
}
