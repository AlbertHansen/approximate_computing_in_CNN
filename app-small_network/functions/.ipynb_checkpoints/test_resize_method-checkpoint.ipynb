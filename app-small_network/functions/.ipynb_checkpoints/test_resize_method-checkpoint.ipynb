{
 "cells": [
  {
   "cell_type": "code",
   "execution_count": 1,
   "id": "ba1c3a5b-4708-4d0b-ab8c-1019531cbccc",
   "metadata": {},
   "outputs": [
    {
     "name": "stderr",
     "output_type": "stream",
     "text": [
      "2024-03-26 17:21:45.176856: I tensorflow/core/platform/cpu_feature_guard.cc:210] This TensorFlow binary is optimized to use available CPU instructions in performance-critical operations.\n",
      "To enable the following instructions: AVX2 AVX512F FMA, in other operations, rebuild TensorFlow with the appropriate compiler flags.\n",
      "/usr/lib/python3/dist-packages/scipy/__init__.py:146: UserWarning: A NumPy version >=1.17.3 and <1.25.0 is required for this version of SciPy (detected version 1.26.4\n",
      "  warnings.warn(f\"A NumPy version >={np_minversion} and <{np_maxversion}\"\n"
     ]
    }
   ],
   "source": [
    "# import packages\n",
    "import numpy as np\n",
    "import pandas as pd\n",
    "import tensorflow as tf\n",
    "import tensorflow_datasets as tfds\n",
    "import matplotlib.pyplot as plt\n",
    "import time"
   ]
  },
  {
   "cell_type": "code",
   "execution_count": 2,
   "id": "5722262b-44e2-4220-aa44-e028045fbac8",
   "metadata": {},
   "outputs": [],
   "source": [
    "# Datasets\n",
    "train_paths = [\n",
    "    '/home/ubuntu/tensorflow_datasets/cifar100_grey_16x16_AREA/train',\n",
    "    '/home/ubuntu/tensorflow_datasets/cifar100_grey_16x16_BICUBIC/train',\n",
    "    '/home/ubuntu/tensorflow_datasets/cifar100_grey_16x16_BILINEAR/train',\n",
    "    '/home/ubuntu/tensorflow_datasets/cifar100_grey_16x16_GAUSSIAN/train',\n",
    "    '/home/ubuntu/tensorflow_datasets/cifar100_grey_16x16_LANCZOS3/train',\n",
    "    '/home/ubuntu/tensorflow_datasets/cifar100_grey_16x16_LANCZOS5/train',\n",
    "    '/home/ubuntu/tensorflow_datasets/cifar100_grey_16x16_MITCHELLCUBIC/train',\n",
    "    '/home/ubuntu/tensorflow_datasets/cifar100_grey_16x16_NEAREST_NEIGHBOR/train'   \n",
    "]\n",
    "test_paths = [\n",
    "    '/home/ubuntu/tensorflow_datasets/cifar100_grey_16x16_AREA/test',\n",
    "    '/home/ubuntu/tensorflow_datasets/cifar100_grey_16x16_BICUBIC/test',\n",
    "    '/home/ubuntu/tensorflow_datasets/cifar100_grey_16x16_BILINEAR/test',\n",
    "    '/home/ubuntu/tensorflow_datasets/cifar100_grey_16x16_GAUSSIAN/test',\n",
    "    '/home/ubuntu/tensorflow_datasets/cifar100_grey_16x16_LANCZOS3/test',\n",
    "    '/home/ubuntu/tensorflow_datasets/cifar100_grey_16x16_LANCZOS5/test',\n",
    "    '/home/ubuntu/tensorflow_datasets/cifar100_grey_16x16_MITCHELLCUBIC/test',\n",
    "    '/home/ubuntu/tensorflow_datasets/cifar100_grey_16x16_NEAREST_NEIGHBOR/test'   \n",
    "]\n",
    "csv_names = [\n",
    "    '/home/ubuntu/approximate_computing_in_CNN/app-small_network/results/AREA.csv',\n",
    "    '/home/ubuntu/approximate_computing_in_CNN/app-small_network/results/BICUBIC.csv',\n",
    "    '/home/ubuntu/approximate_computing_in_CNN/app-small_network/results/BILINEAR.csv',\n",
    "    '/home/ubuntu/approximate_computing_in_CNN/app-small_network/results/GAUSSIAN.csv',\n",
    "    '/home/ubuntu/approximate_computing_in_CNN/app-small_network/results/LANCZOS3.csv',\n",
    "    '/home/ubuntu/approximate_computing_in_CNN/app-small_network/results/LANCZOS5.csv',\n",
    "    '/home/ubuntu/approximate_computing_in_CNN/app-small_network/results/MITCHELLCUBIC.csv',\n",
    "    '/home/ubuntu/approximate_computing_in_CNN/app-small_network/results/NEAREST_NEIGHBOR.csv'\n",
    "]\n",
    "\n",
    "#train = tf.data.Dataset.load('/home/ubuntu/tensorflow_datasets/cifar100_grey_16x16/train')\n",
    "#test  = tf.data.Dataset.load('/home/ubuntu/tensorflow_datasets/cifar100_grey_16x16/test')\n",
    "\n",
    "def preprocess(example):\n",
    "    image = example['image']\n",
    "    image.set_shape([16, 16, 1])\n",
    "    label = example['label']\n",
    "    label = tf.one_hot(label, depth=100)  # One-hot encode the labels\n",
    "    return image, label\n",
    "\n",
    "def format_set(train_set, test_set):\n",
    "    # format and cache\n",
    "    train_set_formatted = train_set.map(preprocess, num_parallel_calls=tf.data.AUTOTUNE)\n",
    "    train_set_formatted = train_set_formatted.cache()\n",
    "    train_set_formatted = train_set_formatted.batch(256)\n",
    "    train_set_formatted = train_set_formatted.prefetch(tf.data.AUTOTUNE)\n",
    "    test_set_formatted = test_set.map(preprocess, num_parallel_calls=tf.data.AUTOTUNE)\n",
    "    test_set_formatted = test_set_formatted.batch(256)\n",
    "    test_set_formatted = test_set_formatted.cache()\n",
    "    test_set_formatted = test_set_formatted.prefetch(tf.data.AUTOTUNE)\n",
    "    return train_set_formatted, test_set_formatted"
   ]
  },
  {
   "cell_type": "code",
   "execution_count": 3,
   "id": "a650bd19-7637-4043-9b62-e887a4114d51",
   "metadata": {},
   "outputs": [
    {
     "data": {
      "text/plain": [
       "'\\n# Get the first batch of images and labels from the training dataset\\nimages, labels = next(iter(train))\\n\\n# Create a figure\\nplt.figure(figsize=(10,10))\\n\\n# Plot 25 images\\nfor i in range(25):\\n    plt.subplot(5,5,i+1)\\n    plt.xticks([])\\n    plt.yticks([])\\n    plt.grid(False)\\n    # Reshape the image\\n    image = np.reshape(images[i], (16, 16))\\n    plt.imshow(image, cmap=plt.cm.binary)\\n    # Get the label for the image\\n    label = np.argmax(labels[i])\\n    plt.xlabel(label)\\nplt.show()\\n'"
      ]
     },
     "execution_count": 3,
     "metadata": {},
     "output_type": "execute_result"
    }
   ],
   "source": [
    "'''\n",
    "# Get the first batch of images and labels from the training dataset\n",
    "images, labels = next(iter(train))\n",
    "\n",
    "# Create a figure\n",
    "plt.figure(figsize=(10,10))\n",
    "\n",
    "# Plot 25 images\n",
    "for i in range(25):\n",
    "    plt.subplot(5,5,i+1)\n",
    "    plt.xticks([])\n",
    "    plt.yticks([])\n",
    "    plt.grid(False)\n",
    "    # Reshape the image\n",
    "    image = np.reshape(images[i], (16, 16))\n",
    "    plt.imshow(image, cmap=plt.cm.binary)\n",
    "    # Get the label for the image\n",
    "    label = np.argmax(labels[i])\n",
    "    plt.xlabel(label)\n",
    "plt.show()\n",
    "'''"
   ]
  },
  {
   "cell_type": "code",
   "execution_count": 4,
   "id": "17f7cfa1-d410-47b7-a2e7-02b3936c9134",
   "metadata": {},
   "outputs": [],
   "source": [
    "# Keeping time\n",
    "class TimeHistory(tf.keras.callbacks.Callback):\n",
    "    def on_train_begin(self, logs={}):\n",
    "        self.times = []\n",
    "\n",
    "    def on_epoch_begin(self, batch, logs={}):\n",
    "        self.epoch_time_start = time.time()\n",
    "\n",
    "    def on_epoch_end(self, batch, logs={}):\n",
    "        self.times.append(time.time() - self.epoch_time_start)\n",
    "\n",
    "time_callback = TimeHistory()"
   ]
  },
  {
   "cell_type": "code",
   "execution_count": 6,
   "id": "8c80d936-918f-41aa-9fc2-5c463c2d48b9",
   "metadata": {},
   "outputs": [],
   "source": [
    "# Model \n",
    "model = tf.keras.models.Sequential([\n",
    "    tf.keras.layers.Conv2D(64, (2, 2), activation='relu'),\n",
    "    tf.keras.layers.MaxPooling2D(pool_size=(2, 2)),\n",
    "    tf.keras.layers.Conv2D(32, (2, 2), activation='relu'),\n",
    "    tf.keras.layers.Flatten(),\n",
    "    tf.keras.layers.Dense(64, activation='relu'),\n",
    "    tf.keras.layers.Dense(100),\n",
    "    tf.keras.layers.Softmax()\n",
    "])\n",
    "\n",
    "model.compile(\n",
    "    optimizer='adam',\n",
    "    loss=tf.keras.losses.MeanSquaredError(),\n",
    "    metrics=['accuracy']\n",
    ")"
   ]
  },
  {
   "cell_type": "code",
   "execution_count": 7,
   "id": "e3253733-ce58-4bb9-8ecf-f32df6072556",
   "metadata": {},
   "outputs": [
    {
     "name": "stdout",
     "output_type": "stream",
     "text": [
      "Epoch 1/2\n",
      "\u001b[1m196/196\u001b[0m \u001b[32m━━━━━━━━━━━━━━━━━━━━\u001b[0m\u001b[37m\u001b[0m \u001b[1m5s\u001b[0m 18ms/step - accuracy: 0.0128 - loss: 0.0099 - val_accuracy: 0.0276 - val_loss: 0.0099\n",
      "Epoch 2/2\n",
      "\u001b[1m196/196\u001b[0m \u001b[32m━━━━━━━━━━━━━━━━━━━━\u001b[0m\u001b[37m\u001b[0m \u001b[1m3s\u001b[0m 13ms/step - accuracy: 0.0393 - loss: 0.0098 - val_accuracy: 0.0627 - val_loss: 0.0098\n",
      "Epoch 1/2\n",
      "\u001b[1m196/196\u001b[0m \u001b[32m━━━━━━━━━━━━━━━━━━━━\u001b[0m\u001b[37m\u001b[0m \u001b[1m3s\u001b[0m 17ms/step - accuracy: 0.0725 - loss: 0.0097 - val_accuracy: 0.0988 - val_loss: 0.0096\n",
      "Epoch 2/2\n",
      "\u001b[1m196/196\u001b[0m \u001b[32m━━━━━━━━━━━━━━━━━━━━\u001b[0m\u001b[37m\u001b[0m \u001b[1m3s\u001b[0m 13ms/step - accuracy: 0.1047 - loss: 0.0096 - val_accuracy: 0.1247 - val_loss: 0.0095\n",
      "Epoch 1/2\n",
      "\u001b[1m196/196\u001b[0m \u001b[32m━━━━━━━━━━━━━━━━━━━━\u001b[0m\u001b[37m\u001b[0m \u001b[1m3s\u001b[0m 16ms/step - accuracy: 0.1296 - loss: 0.0094 - val_accuracy: 0.1412 - val_loss: 0.0094\n",
      "Epoch 2/2\n",
      "\u001b[1m196/196\u001b[0m \u001b[32m━━━━━━━━━━━━━━━━━━━━\u001b[0m\u001b[37m\u001b[0m \u001b[1m3s\u001b[0m 13ms/step - accuracy: 0.1478 - loss: 0.0093 - val_accuracy: 0.1502 - val_loss: 0.0093\n",
      "Epoch 1/2\n",
      "\u001b[1m196/196\u001b[0m \u001b[32m━━━━━━━━━━━━━━━━━━━━\u001b[0m\u001b[37m\u001b[0m \u001b[1m3s\u001b[0m 16ms/step - accuracy: 0.1613 - loss: 0.0092 - val_accuracy: 0.1569 - val_loss: 0.0093\n",
      "Epoch 2/2\n",
      "\u001b[1m196/196\u001b[0m \u001b[32m━━━━━━━━━━━━━━━━━━━━\u001b[0m\u001b[37m\u001b[0m \u001b[1m3s\u001b[0m 14ms/step - accuracy: 0.1715 - loss: 0.0092 - val_accuracy: 0.1655 - val_loss: 0.0092\n",
      "Epoch 1/2\n",
      "\u001b[1m196/196\u001b[0m \u001b[32m━━━━━━━━━━━━━━━━━━━━\u001b[0m\u001b[37m\u001b[0m \u001b[1m3s\u001b[0m 16ms/step - accuracy: 0.1798 - loss: 0.0091 - val_accuracy: 0.1723 - val_loss: 0.0092\n",
      "Epoch 2/2\n",
      "\u001b[1m196/196\u001b[0m \u001b[32m━━━━━━━━━━━━━━━━━━━━\u001b[0m\u001b[37m\u001b[0m \u001b[1m3s\u001b[0m 13ms/step - accuracy: 0.1902 - loss: 0.0090 - val_accuracy: 0.1784 - val_loss: 0.0091\n",
      "Epoch 1/2\n",
      "\u001b[1m196/196\u001b[0m \u001b[32m━━━━━━━━━━━━━━━━━━━━\u001b[0m\u001b[37m\u001b[0m \u001b[1m3s\u001b[0m 17ms/step - accuracy: 0.2016 - loss: 0.0090 - val_accuracy: 0.1849 - val_loss: 0.0091\n",
      "Epoch 2/2\n",
      "\u001b[1m196/196\u001b[0m \u001b[32m━━━━━━━━━━━━━━━━━━━━\u001b[0m\u001b[37m\u001b[0m \u001b[1m3s\u001b[0m 13ms/step - accuracy: 0.2113 - loss: 0.0089 - val_accuracy: 0.1870 - val_loss: 0.0091\n",
      "Epoch 1/2\n",
      "\u001b[1m196/196\u001b[0m \u001b[32m━━━━━━━━━━━━━━━━━━━━\u001b[0m\u001b[37m\u001b[0m \u001b[1m3s\u001b[0m 16ms/step - accuracy: 0.2177 - loss: 0.0088 - val_accuracy: 0.1902 - val_loss: 0.0090\n",
      "Epoch 2/2\n",
      "\u001b[1m196/196\u001b[0m \u001b[32m━━━━━━━━━━━━━━━━━━━━\u001b[0m\u001b[37m\u001b[0m \u001b[1m2s\u001b[0m 12ms/step - accuracy: 0.2238 - loss: 0.0088 - val_accuracy: 0.1944 - val_loss: 0.0090\n",
      "Epoch 1/2\n",
      "\u001b[1m196/196\u001b[0m \u001b[32m━━━━━━━━━━━━━━━━━━━━\u001b[0m\u001b[37m\u001b[0m \u001b[1m3s\u001b[0m 15ms/step - accuracy: 0.2238 - loss: 0.0088 - val_accuracy: 0.2024 - val_loss: 0.0090\n",
      "Epoch 2/2\n",
      "\u001b[1m196/196\u001b[0m \u001b[32m━━━━━━━━━━━━━━━━━━━━\u001b[0m\u001b[37m\u001b[0m \u001b[1m3s\u001b[0m 13ms/step - accuracy: 0.2338 - loss: 0.0087 - val_accuracy: 0.2055 - val_loss: 0.0090\n"
     ]
    }
   ],
   "source": [
    "#train = tf.data.Dataset.load('/home/ubuntu/tensorflow_datasets/cifar100_grey_16x16/train')\n",
    "#test  = tf.data.Dataset.load('/home/ubuntu/tensorflow_datasets/cifar100_grey_16x16/test')\n",
    "\n",
    "for i in range(len(csv_names)):\n",
    "    # fetch datasets\n",
    "    train = tf.data.Dataset.load(train_paths[i])\n",
    "    test  = tf.data.Dataset.load(test_paths[i])\n",
    "    train, test = format_set(train, test)\n",
    "\n",
    "    # Train\n",
    "    history = model.fit(train, epochs=250, validation_data=test, callbacks=[time_callback])\n",
    "\n",
    "    # Convert the history.history dict to a pandas DataFrame\n",
    "    hist_df = pd.DataFrame(history.history)\n",
    "\n",
    "    # Add epoch times\n",
    "    hist_df['time'] = time_callback.times\n",
    "\n",
    "    # Save to csv\n",
    "    hist_df.to_csv(csv_names[i])"
   ]
  }
 ],
 "metadata": {
  "kernelspec": {
   "display_name": "Python 3 (ipykernel)",
   "language": "python",
   "name": "python3"
  },
  "language_info": {
   "codemirror_mode": {
    "name": "ipython",
    "version": 3
   },
   "file_extension": ".py",
   "mimetype": "text/x-python",
   "name": "python",
   "nbconvert_exporter": "python",
   "pygments_lexer": "ipython3",
   "version": "3.10.12"
  }
 },
 "nbformat": 4,
 "nbformat_minor": 5
}
