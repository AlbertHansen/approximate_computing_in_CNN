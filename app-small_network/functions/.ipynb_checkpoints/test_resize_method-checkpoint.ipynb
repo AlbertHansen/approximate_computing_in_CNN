{
 "cells": [
  {
   "cell_type": "code",
   "execution_count": 7,
   "id": "ba1c3a5b-4708-4d0b-ab8c-1019531cbccc",
   "metadata": {},
   "outputs": [],
   "source": [
    "# import packages\n",
    "import numpy as np\n",
    "import pandas as pd\n",
    "import tensorflow as tf\n",
    "import tensorflow_datasets as tfds\n",
    "import matplotlib.pyplot as plt\n",
    "import time"
   ]
  },
  {
   "cell_type": "code",
   "execution_count": 8,
   "id": "5722262b-44e2-4220-aa44-e028045fbac8",
   "metadata": {},
   "outputs": [],
   "source": [
    "# Datasets\n",
    "train_paths = [\n",
    "    '/home/ubuntu/tensorflow_datasets/cifar100_grey_16x16_AREA/train',\n",
    "    '/home/ubuntu/tensorflow_datasets/cifar100_grey_16x16_BICUBIC/train',\n",
    "    '/home/ubuntu/tensorflow_datasets/cifar100_grey_16x16_BILINEAR/train',\n",
    "    '/home/ubuntu/tensorflow_datasets/cifar100_grey_16x16_GAUSSIAN/train',\n",
    "    '/home/ubuntu/tensorflow_datasets/cifar100_grey_16x16_LANCZOS3/train',\n",
    "    '/home/ubuntu/tensorflow_datasets/cifar100_grey_16x16_LANCZOS5/train',\n",
    "    '/home/ubuntu/tensorflow_datasets/cifar100_grey_16x16_AREA/train',\n",
    "    '/home/ubuntu/tensorflow_datasets/cifar100_grey_16x16_AREA/train',\n",
    "    '/home/ubuntu/tensorflow_datasets/cifar100_grey_16x16_AREA/train'    \n",
    "]\n",
    "\n",
    "train = tf.data.Dataset.load('/home/ubuntu/tensorflow_datasets/cifar100_grey_16x16/train')\n",
    "test  = tf.data.Dataset.load('/home/ubuntu/tensorflow_datasets/cifar100_grey_16x16/test')\n",
    "\n",
    "def preprocess(example):\n",
    "    image = example['image']\n",
    "    image.set_shape([16, 16, 1])\n",
    "    label = example['label']\n",
    "    label = tf.one_hot(label, depth=100)  # One-hot encode the labels\n",
    "    return image, label\n",
    "\n",
    "def format_set():\n",
    "    # format and cache\n",
    "    train = train.map(preprocess, num_parallel_calls=tf.data.AUTOTUNE)\n",
    "    train = train.cache()\n",
    "    train = train.batch(128)\n",
    "    train = train.prefetch(tf.data.AUTOTUNE)\n",
    "    test = test.map(preprocess, num_parallel_calls=tf.data.AUTOTUNE)\n",
    "    test = test.batch(128)\n",
    "    test = test.cache()\n",
    "    test = test.prefetch(tf.data.AUTOTUNE)"
   ]
  },
  {
   "cell_type": "code",
   "execution_count": 9,
   "id": "a650bd19-7637-4043-9b62-e887a4114d51",
   "metadata": {},
   "outputs": [
    {
     "data": {
      "text/plain": [
       "'\\n# Get the first batch of images and labels from the training dataset\\nimages, labels = next(iter(train))\\n\\n# Create a figure\\nplt.figure(figsize=(10,10))\\n\\n# Plot 25 images\\nfor i in range(25):\\n    plt.subplot(5,5,i+1)\\n    plt.xticks([])\\n    plt.yticks([])\\n    plt.grid(False)\\n    # Reshape the image\\n    image = np.reshape(images[i], (16, 16))\\n    plt.imshow(image, cmap=plt.cm.binary)\\n    # Get the label for the image\\n    label = np.argmax(labels[i])\\n    plt.xlabel(label)\\nplt.show()\\n'"
      ]
     },
     "execution_count": 9,
     "metadata": {},
     "output_type": "execute_result"
    }
   ],
   "source": [
    "'''\n",
    "# Get the first batch of images and labels from the training dataset\n",
    "images, labels = next(iter(train))\n",
    "\n",
    "# Create a figure\n",
    "plt.figure(figsize=(10,10))\n",
    "\n",
    "# Plot 25 images\n",
    "for i in range(25):\n",
    "    plt.subplot(5,5,i+1)\n",
    "    plt.xticks([])\n",
    "    plt.yticks([])\n",
    "    plt.grid(False)\n",
    "    # Reshape the image\n",
    "    image = np.reshape(images[i], (16, 16))\n",
    "    plt.imshow(image, cmap=plt.cm.binary)\n",
    "    # Get the label for the image\n",
    "    label = np.argmax(labels[i])\n",
    "    plt.xlabel(label)\n",
    "plt.show()\n",
    "'''"
   ]
  },
  {
   "cell_type": "code",
   "execution_count": 3,
   "id": "17f7cfa1-d410-47b7-a2e7-02b3936c9134",
   "metadata": {},
   "outputs": [],
   "source": [
    "# Keeping time\n",
    "class TimeHistory(tf.keras.callbacks.Callback):\n",
    "    def on_train_begin(self, logs={}):\n",
    "        self.times = []\n",
    "\n",
    "    def on_epoch_begin(self, batch, logs={}):\n",
    "        self.epoch_time_start = time.time()\n",
    "\n",
    "    def on_epoch_end(self, batch, logs={}):\n",
    "        self.times.append(time.time() - self.epoch_time_start)\n",
    "\n",
    "time_callback = TimeHistory()"
   ]
  },
  {
   "cell_type": "code",
   "execution_count": 4,
   "id": "8c80d936-918f-41aa-9fc2-5c463c2d48b9",
   "metadata": {},
   "outputs": [],
   "source": [
    "# Model \n",
    "model = tf.keras.models.Sequential([\n",
    "    tf.keras.layers.Conv2D(8, (2, 2), activation='relu'),\n",
    "    tf.keras.layers.Flatten(),\n",
    "    tf.keras.layers.Dense(64, activation='relu'),\n",
    "    tf.keras.layers.Dense(100),\n",
    "    tf.keras.layers.Softmax()\n",
    "])\n",
    "\n",
    "model.compile(\n",
    "    optimizer='adam',\n",
    "    loss=tf.keras.losses.MeanSquaredError(),\n",
    "    metrics=['accuracy']\n",
    ")"
   ]
  },
  {
   "cell_type": "code",
   "execution_count": 5,
   "id": "e3253733-ce58-4bb9-8ecf-f32df6072556",
   "metadata": {},
   "outputs": [
    {
     "name": "stdout",
     "output_type": "stream",
     "text": [
      "Epoch 1/15\n",
      "\u001b[1m391/391\u001b[0m \u001b[32m━━━━━━━━━━━━━━━━━━━━\u001b[0m\u001b[37m\u001b[0m \u001b[1m4s\u001b[0m 8ms/step - accuracy: 0.0184 - loss: 0.0099 - val_accuracy: 0.0524 - val_loss: 0.0098\n",
      "Epoch 2/15\n",
      "\u001b[1m391/391\u001b[0m \u001b[32m━━━━━━━━━━━━━━━━━━━━\u001b[0m\u001b[37m\u001b[0m \u001b[1m3s\u001b[0m 6ms/step - accuracy: 0.0599 - loss: 0.0098 - val_accuracy: 0.0810 - val_loss: 0.0097\n",
      "Epoch 3/15\n",
      "\u001b[1m391/391\u001b[0m \u001b[32m━━━━━━━━━━━━━━━━━━━━\u001b[0m\u001b[37m\u001b[0m \u001b[1m3s\u001b[0m 6ms/step - accuracy: 0.0859 - loss: 0.0097 - val_accuracy: 0.0985 - val_loss: 0.0096\n",
      "Epoch 4/15\n",
      "\u001b[1m391/391\u001b[0m \u001b[32m━━━━━━━━━━━━━━━━━━━━\u001b[0m\u001b[37m\u001b[0m \u001b[1m2s\u001b[0m 6ms/step - accuracy: 0.1020 - loss: 0.0096 - val_accuracy: 0.1090 - val_loss: 0.0096\n",
      "Epoch 5/15\n",
      "\u001b[1m391/391\u001b[0m \u001b[32m━━━━━━━━━━━━━━━━━━━━\u001b[0m\u001b[37m\u001b[0m \u001b[1m2s\u001b[0m 6ms/step - accuracy: 0.1150 - loss: 0.0095 - val_accuracy: 0.1174 - val_loss: 0.0095\n",
      "Epoch 6/15\n",
      "\u001b[1m391/391\u001b[0m \u001b[32m━━━━━━━━━━━━━━━━━━━━\u001b[0m\u001b[37m\u001b[0m \u001b[1m2s\u001b[0m 6ms/step - accuracy: 0.1266 - loss: 0.0095 - val_accuracy: 0.1241 - val_loss: 0.0095\n",
      "Epoch 7/15\n",
      "\u001b[1m391/391\u001b[0m \u001b[32m━━━━━━━━━━━━━━━━━━━━\u001b[0m\u001b[37m\u001b[0m \u001b[1m3s\u001b[0m 7ms/step - accuracy: 0.1358 - loss: 0.0094 - val_accuracy: 0.1290 - val_loss: 0.0095\n",
      "Epoch 8/15\n",
      "\u001b[1m391/391\u001b[0m \u001b[32m━━━━━━━━━━━━━━━━━━━━\u001b[0m\u001b[37m\u001b[0m \u001b[1m3s\u001b[0m 7ms/step - accuracy: 0.1436 - loss: 0.0093 - val_accuracy: 0.1329 - val_loss: 0.0094\n",
      "Epoch 9/15\n",
      "\u001b[1m391/391\u001b[0m \u001b[32m━━━━━━━━━━━━━━━━━━━━\u001b[0m\u001b[37m\u001b[0m \u001b[1m5s\u001b[0m 6ms/step - accuracy: 0.1513 - loss: 0.0093 - val_accuracy: 0.1381 - val_loss: 0.0094\n",
      "Epoch 10/15\n",
      "\u001b[1m391/391\u001b[0m \u001b[32m━━━━━━━━━━━━━━━━━━━━\u001b[0m\u001b[37m\u001b[0m \u001b[1m3s\u001b[0m 6ms/step - accuracy: 0.1575 - loss: 0.0093 - val_accuracy: 0.1416 - val_loss: 0.0094\n",
      "Epoch 11/15\n",
      "\u001b[1m391/391\u001b[0m \u001b[32m━━━━━━━━━━━━━━━━━━━━\u001b[0m\u001b[37m\u001b[0m \u001b[1m3s\u001b[0m 7ms/step - accuracy: 0.1642 - loss: 0.0092 - val_accuracy: 0.1464 - val_loss: 0.0094\n",
      "Epoch 12/15\n",
      "\u001b[1m391/391\u001b[0m \u001b[32m━━━━━━━━━━━━━━━━━━━━\u001b[0m\u001b[37m\u001b[0m \u001b[1m3s\u001b[0m 6ms/step - accuracy: 0.1687 - loss: 0.0092 - val_accuracy: 0.1475 - val_loss: 0.0093\n",
      "Epoch 13/15\n",
      "\u001b[1m391/391\u001b[0m \u001b[32m━━━━━━━━━━━━━━━━━━━━\u001b[0m\u001b[37m\u001b[0m \u001b[1m2s\u001b[0m 6ms/step - accuracy: 0.1742 - loss: 0.0091 - val_accuracy: 0.1473 - val_loss: 0.0093\n",
      "Epoch 14/15\n",
      "\u001b[1m391/391\u001b[0m \u001b[32m━━━━━━━━━━━━━━━━━━━━\u001b[0m\u001b[37m\u001b[0m \u001b[1m3s\u001b[0m 7ms/step - accuracy: 0.1784 - loss: 0.0091 - val_accuracy: 0.1483 - val_loss: 0.0093\n",
      "Epoch 15/15\n",
      "\u001b[1m391/391\u001b[0m \u001b[32m━━━━━━━━━━━━━━━━━━━━\u001b[0m\u001b[37m\u001b[0m \u001b[1m3s\u001b[0m 6ms/step - accuracy: 0.1830 - loss: 0.0091 - val_accuracy: 0.1499 - val_loss: 0.0093\n"
     ]
    }
   ],
   "source": [
    "# Train\n",
    "history = model.fit(train, epochs=15, validation_data=test, callbacks=[time_callback])\n",
    "\n",
    "# Convert the history.history dict to a pandas DataFrame\n",
    "hist_df = pd.DataFrame(history.history)\n",
    "\n",
    "# Add epoch times\n",
    "hist_df['time'] = time_callback.times\n",
    "\n",
    "# Save to csv\n",
    "hist_df.to_csv('history.csv')"
   ]
  }
 ],
 "metadata": {
  "kernelspec": {
   "display_name": "Python 3 (ipykernel)",
   "language": "python",
   "name": "python3"
  },
  "language_info": {
   "codemirror_mode": {
    "name": "ipython",
    "version": 3
   },
   "file_extension": ".py",
   "mimetype": "text/x-python",
   "name": "python",
   "nbconvert_exporter": "python",
   "pygments_lexer": "ipython3",
   "version": "3.10.12"
  }
 },
 "nbformat": 4,
 "nbformat_minor": 5
}
