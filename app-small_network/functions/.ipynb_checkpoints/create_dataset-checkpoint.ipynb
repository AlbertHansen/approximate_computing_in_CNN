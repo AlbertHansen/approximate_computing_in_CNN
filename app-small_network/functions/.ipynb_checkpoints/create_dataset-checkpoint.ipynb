{
 "cells": [
  {
   "cell_type": "code",
   "execution_count": 28,
   "id": "9276abcc-0459-4b6c-82c0-d727697b2910",
   "metadata": {},
   "outputs": [],
   "source": [
    "# import packages\n",
    "import numpy as np\n",
    "import tensorflow as tf\n",
    "import tensorflow_datasets as tfds"
   ]
  },
  {
   "cell_type": "code",
   "execution_count": 29,
   "id": "65d68c76-4b19-4e45-b5f2-24f78eb05c92",
   "metadata": {},
   "outputs": [],
   "source": [
    "# settings\n",
    "save_directory    = '/home/ubuntu/tensorflow_datasets/cifar100_grey_16x16/'\n",
    "apply_grayscale   = True\n",
    "reduce_dimensions = True\n",
    "resize_method     = tf.image.ResizeMethod.BILINEAR\n",
    "data_size_x       = 16\n",
    "data_size_y       = data_size_x"
   ]
  },
  {
   "cell_type": "code",
   "execution_count": 30,
   "id": "fb3ebc37-4cb0-4c03-b6d6-8985503d3388",
   "metadata": {},
   "outputs": [],
   "source": [
    "# Dataset\n",
    "cifar100 = tfds.builder('cifar100')\n",
    "\n",
    "# Description of dataset\n",
    "assert cifar100.info.features['image'].shape       == (32, 32, 3)\n",
    "assert cifar100.info.features['label'].num_classes == 100\n",
    "assert cifar100.info.splits['train'].num_examples  == 50000\n",
    "assert cifar100.info.splits['test'].num_examples   == 10000\n",
    "\n",
    "# Download and prepare the data\n",
    "cifar100.download_and_prepare()\n",
    "datasets = cifar100.as_dataset()\n"
   ]
  },
  {
   "cell_type": "code",
   "execution_count": 31,
   "id": "facec9a3-c171-46f9-9e1a-e86f6aa9a578",
   "metadata": {},
   "outputs": [],
   "source": [
    "# Load data and convert to grayscale\n",
    "if apply_grayscale:\n",
    "    for split in ['train', 'test']:\n",
    "        datasets[split] = datasets[split].map(lambda item: {\n",
    "            'image': tf.image.rgb_to_grayscale(item['image']),\n",
    "            'label': item['label']\n",
    "        })"
   ]
  },
  {
   "cell_type": "code",
   "execution_count": 32,
   "id": "e0a5732f-714b-4834-ba5c-dd3d8fd02654",
   "metadata": {},
   "outputs": [],
   "source": [
    "# Reduce dimensionality\n",
    "if reduce_dimensions:\n",
    "    for split in ['train', 'test']:\n",
    "        datasets[split] = datasets[split].map(lambda item: {\n",
    "            'image': tf.image.resize(\n",
    "                item['image'],\n",
    "                [data_size_x, data_size_y],\n",
    "                method=resize_method, \n",
    "            ),\n",
    "            'label': item['label']\n",
    "        })"
   ]
  },
  {
   "cell_type": "code",
   "execution_count": 33,
   "id": "54ac8edb-275f-4c7b-a429-00bdc0053699",
   "metadata": {},
   "outputs": [],
   "source": [
    "# Save the datasets\n",
    "for split in ['train', 'test']:\n",
    "    datasets[split].save('/home/ubuntu/tensorflow_datasets/cifar100_grey_16x16/' + split)"
   ]
  }
 ],
 "metadata": {
  "kernelspec": {
   "display_name": "Python 3 (ipykernel)",
   "language": "python",
   "name": "python3"
  },
  "language_info": {
   "codemirror_mode": {
    "name": "ipython",
    "version": 3
   },
   "file_extension": ".py",
   "mimetype": "text/x-python",
   "name": "python",
   "nbconvert_exporter": "python",
   "pygments_lexer": "ipython3",
   "version": "3.10.12"
  }
 },
 "nbformat": 4,
 "nbformat_minor": 5
}
